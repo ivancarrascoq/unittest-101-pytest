{
 "cells": [
  {
   "cell_type": "markdown",
   "id": "63341b07",
   "metadata": {},
   "source": [
    " "
   ]
  },
  {
   "attachments": {},
   "cell_type": "markdown",
   "id": "2d70c798",
   "metadata": {},
   "source": [
    "<div>\n",
    "<img src=\"images/yoda_unittest.png\" width=\"400\"/>\n",
    "</div>\n",
    "<!-- ![image.png](images/yoda_unittest.png) -->"
   ]
  },
  {
   "cell_type": "markdown",
   "id": "b55fcb73",
   "metadata": {},
   "source": [
    "# Unit Test with `Pytest`\n",
    "## Table of Contents\n",
    "* [1. Set the Jupyter environment](#1.-Set-the-Jupyter-environment)\n",
    "* [2. Python Mock Object Library](#2.-Python-Mock-Object-Library)\n",
    "    * [2.1. What are Mock objects?](#2.1.-What-are-Mock-objects?)\n",
    "    * [2.2. The Python `Mock` Library](#2.2.-The-Python-`Mock`-Library)\n",
    "* [3. Creating a `Mock` Object](#3.-Creating-a-`Mock`-Object)\n",
    "    * [3.1. Mock object attributes and methods](#3.1.-Mock-object-attributes-and-methods)\n",
    "* [4. Mocking](#4.-Mocking)\n",
    "    * [4.1. Mocking a function](#4.1.-Mocking-a-function)\n",
    "    * [4.2. Mocking a method of a class](#4.2.-Mocking-a-method-of-a-class)\n",
    "    * [4.3. Mocking a class](#4.3.-Mocking-a-class)\n",
    "    * [4.4. Mocking an object's attributes](#4.4.-Mocking-an-object's-attributes)\n",
    "* [5. Assertions and Inspection](#5.-Assertions-and-Inspection)\n",
    "* [6. `return_value` and `side_effect`](#6.-return_value-and-side_effect)\n",
    "    * [6.1. What if I don't use `return_value`?](#6.1.-What-if-I-don't-use-return_value?)\n",
    "    * [6.2 Examples and uses](#6.2-Examples-and-uses)\n",
    "        * [6.2.1. Chaining method calls](#6.2.1.-Chaining-method-calls)\n",
    "        * [6.2.2. Testing method calls without caring about return values](#6.2.2.-Testing-method-calls-without-caring-about-return-values)\n",
    "        * [6.2.3. Using side_effect instead of return_value.](#6.2.3.-Using-side_effect-instead-of-return_value.)\n",
    "    * [6.3. `side_effect` can also be an iterable](#6.3.-`side_effect`-can-also-be-an-iterable)\n",
    "    * [6.4. Exceptions using `side_effect`](#6.4.-Exceptions-using-`side_effect`)\n",
    "* [7. Testing Exceptions with `pytest.raises`](#7.-Testing-Exceptions-with-`pytest.raises`)\n",
    "* [8. Configuring Your Mock](#8.-Configuring-Your-Mock)\n",
    "* [9. `patch()`](#9.-`patch()`)\n",
    "    * [9.1. Using `patch()` as a decorator:](#9.1.-Using-`patch()`-as-a-decorator:)\n",
    "    * [9.2. Using `patch()` as a context manager:](#9.2.-Using-patch()-as-a-context-manager:)\n",
    "    * [9.3. Using `patch()` manually:](#9.3.-Using-patch()-manually:)\n",
    "* [10. Patching an Object’s Attributes:](#10.-Patching-an-Object’s-Attributes:)\n",
    "    * [10.1 Patching attributes and functions:](#10.1-Patching-attributes-and-functions:)\n",
    "        * [10.1.1 Autospec](#10.1.1-Autospec)\n",
    "        * [10.1.2 Cascading Decorators](#10.1.2-Cascading-Decorators)\n",
    "    * [10.2. Patching classes and instances](#10.2.-Patching-classes-and-instances:)\n",
    "    * [10.3 Where to Patch](#10.3-Where-to-Patch)\n",
    "* [11. pytest fixtures](#11.-pytest-fixtures)\n",
    "    * [11.1 Basic ficture usage](#11.1-Basic-ficture-usage)\n",
    "    * [11.2 Fixture scope](#11.2-Fixture-scope)\n",
    "    * [11.3. Fixture dependencies](#11.3.-Fixture-dependencies)\n",
    "    * [11.4 Parametrized fixtures](#11.4-Parametrized-fixtures)\n",
    "    * [11.5. Autouse fixtures](#11.5.-Autouse-fixtures)\n",
    "* [12. Avoiding Common Problems Using Specifications](#12.-Avoiding-Common-Problems-Using-Specifications)\n",
    "* [12. MagicMock vs Mock](#12.-MagicMock-vs-Mock)\n",
    "    * [12.1. Mocking with `MagicMock`](#12.1.-Mocking-with-`MagicMock`)\n",
    "* [13. Best Practices for Mocking and Patching](#13.-Best-Practices-for-Mocking-and-Patching)\n",
    "    * [13.1. When to use Mock objects and patching](#13.1.-When-to-use-Mock-objects-and-patching)\n",
    "    * [13.2. Keeping mocks simple and focused](#13.2.-Keeping-mocks-simple-and-focused)\n",
    "    * [13.3. Testing edge cases and exceptions with `side_effect`](#13.3.-Testing-edge-cases-and-exceptions-with-`side_effect`)\n",
    "    * [13.4. Cleaning up after patching](#13.4.-Cleaning-up-after-patching)"
   ]
  },
  {
   "cell_type": "markdown",
   "id": "f2b4575b",
   "metadata": {},
   "source": [
    " "
   ]
  },
  {
   "cell_type": "markdown",
   "id": "c2f285f7",
   "metadata": {},
   "source": [
    "# 1. Set the Jupyter environment"
   ]
  },
  {
   "cell_type": "markdown",
   "id": "8a6b318f",
   "metadata": {},
   "source": [
    "Install `ipytest` by running:  \n",
    "Notebook:\n",
    "```jupyter\n",
    "!pip install ipytest\n",
    "```\n",
    "Terminal:\n",
    "```zsh\n",
    "pip install ipytest\n",
    "```"
   ]
  },
  {
   "cell_type": "code",
   "execution_count": null,
   "id": "f01ccc2b",
   "metadata": {},
   "outputs": [],
   "source": [
    "# import the library:\n",
    "import ipytest\n",
    "import pytest_mock\n",
    "ipytest.autoconfig()"
   ]
  },
  {
   "cell_type": "markdown",
   "id": "5ad638d7",
   "metadata": {},
   "source": [
    "Afterwards in a new cell, tests can be executed as in:"
   ]
  },
  {
   "cell_type": "code",
   "execution_count": null,
   "id": "2b8c6730",
   "metadata": {},
   "outputs": [],
   "source": [
    "%%ipytest\n",
    "\n",
    "def test_example():\n",
    "    assert [1, 2, 3] == [1, 2, 3]"
   ]
  },
  {
   "cell_type": "code",
   "execution_count": null,
   "id": "855be282",
   "metadata": {},
   "outputs": [],
   "source": [
    "%%ipytest -qq\n",
    "\n",
    "def test_example():\n",
    "    assert [1, 2, 3] == [1, 2]"
   ]
  },
  {
   "cell_type": "markdown",
   "id": "9261f70d",
   "metadata": {},
   "source": [
    "# 2. Python Mock Object Library"
   ]
  },
  {
   "attachments": {},
   "cell_type": "markdown",
   "id": "94b8ca9a",
   "metadata": {},
   "source": [
    "## 2.1. What are Mock objects?\n",
    "![image.png](images/tom_ben.png)\n",
    "- **Simulate** the behavior of real objects in a controlled way.\n",
    "- Enable **isolated** testing by replacing dependencies.\n",
    "- Useful for **testing behavior** and **interactions with other components**.\n"
   ]
  },
  {
   "cell_type": "markdown",
   "id": "d38ec4bb",
   "metadata": {},
   "source": [
    "Another reason to use mock objects is to better understand how you’re using their real counterparts in your code.\n",
    "- If you called a method\n",
    "- How you called the method\n",
    "- How often you called the method"
   ]
  },
  {
   "cell_type": "markdown",
   "id": "2808722a",
   "metadata": {},
   "source": [
    "## 2.2. The Python `Mock` Library\n",
    "`Mock` is part of the unittest library in Python.\n",
    "```python\n",
    "from unittest.mock import Mock\n",
    "```\n",
    "\n",
    "Have you seen `mocker.Mock`?\n",
    "\n",
    "```python\n",
    "def test_example(mocker):\n",
    "    some_dependency = mocker.Mock() # <-----\n",
    "    some_dependency.do_something.return_value = 'mocked result'\n",
    "    result = my_function(some_dependency)    \n",
    "    assert result == 'expected result'\n",
    "    some_dependency.do_something.assert_called_once()\n",
    "```\n",
    "The mocker fixture is provided by the `pytest-mock` plugin, which is a thin wrapper around the `unittest.mock` library.\n",
    "\n",
    "to use the `mocker`:\n",
    "```bash\n",
    "pip install pytest-mock\n",
    "```\n",
    "\n",
    "This fixture:\n",
    "- simplifies the process of mocking and helps you to use the Mock object more effectively in your tests.\n",
    "- **automatically resetting** the mocks after each test,\n",
    "- reducing the chance of unintended side effects between tests.\n",
    "- integration with pytest, meaning you can use `mocker` alonside other pytest features, like parametrization, xfail, amd markers."
   ]
  },
  {
   "cell_type": "markdown",
   "id": "505a9907",
   "metadata": {},
   "source": [
    "  "
   ]
  },
  {
   "cell_type": "markdown",
   "id": "cbcfc078",
   "metadata": {},
   "source": [
    "# 3. Creating a `Mock` Object\n",
    "We are going to start instantiating a new Mock instance:"
   ]
  },
  {
   "cell_type": "code",
   "execution_count": null,
   "id": "d443160f",
   "metadata": {},
   "outputs": [],
   "source": [
    "from unittest.mock import Mock\n",
    "mock_obj = Mock()"
   ]
  },
  {
   "cell_type": "code",
   "execution_count": null,
   "id": "ffb02e14",
   "metadata": {},
   "outputs": [],
   "source": [
    "mock_obj.some_attribute"
   ]
  },
  {
   "cell_type": "code",
   "execution_count": null,
   "id": "904916df",
   "metadata": {},
   "outputs": [],
   "source": [
    "mock_obj.do_something()"
   ]
  },
  {
   "cell_type": "code",
   "execution_count": null,
   "id": "d59fdc9f",
   "metadata": {},
   "outputs": [],
   "source": [
    "import json\n",
    "json.dumps() # no arguments!"
   ]
  },
  {
   "cell_type": "code",
   "execution_count": null,
   "id": "99a23ee2",
   "metadata": {},
   "outputs": [],
   "source": [
    "json = Mock()\n",
    "json.dumps() # no errors!"
   ]
  },
  {
   "cell_type": "markdown",
   "id": "8cd47127",
   "metadata": {},
   "source": [
    " "
   ]
  },
  {
   "cell_type": "markdown",
   "id": "60ec7603",
   "metadata": {},
   "source": [
    "## 3.1. Mock object attributes and methods"
   ]
  },
  {
   "cell_type": "markdown",
   "id": "d044c4ac",
   "metadata": {},
   "source": [
    "`return_value`\n",
    "- set the value returned when the mock is called"
   ]
  },
  {
   "cell_type": "code",
   "execution_count": null,
   "id": "602af68b",
   "metadata": {},
   "outputs": [],
   "source": [
    "%%ipytest\n",
    "\n",
    "from unittest.mock import Mock\n",
    "\n",
    "def test_example2():\n",
    "    mock_object = Mock()\n",
    "    mock_object.return_value = 50\n",
    "\n",
    "    result = mock_object()\n",
    "    assert result == 50"
   ]
  },
  {
   "cell_type": "markdown",
   "id": "7bed0c6c",
   "metadata": {},
   "source": [
    "`side_effect`\n",
    "- assigns a **function or exception** to be triggered when the mock object is called"
   ]
  },
  {
   "cell_type": "code",
   "execution_count": null,
   "id": "54c95456",
   "metadata": {
    "scrolled": true
   },
   "outputs": [],
   "source": [
    "%%ipytest -qq\n",
    "\n",
    "def custom_side_effect(*args):\n",
    "    return args[0] * 2\n",
    "\n",
    "# pass or fail?\n",
    "def test_example3():\n",
    "    mock_function = Mock()\n",
    "    mock_function.side_effect = custom_side_effect\n",
    "    result = mock_function(21,33)\n",
    "    assert result == 42"
   ]
  },
  {
   "cell_type": "markdown",
   "id": "12e30638",
   "metadata": {},
   "source": [
    "Example **Exception**"
   ]
  },
  {
   "cell_type": "code",
   "execution_count": null,
   "id": "4ebc89a5",
   "metadata": {},
   "outputs": [],
   "source": [
    "%%ipytest -qq\n",
    "from unittest.mock import Mock\n",
    "\n",
    "def test_example4():\n",
    "    mock_function = Mock()\n",
    "    mock_function.side_effect = ValueError(\"Invalid value\")\n",
    "    try:\n",
    "        result = mock_function()\n",
    "    except ValueError as e:\n",
    "        assert str(e) == \"Invalid value\"\n"
   ]
  },
  {
   "cell_type": "markdown",
   "id": "2181042e",
   "metadata": {},
   "source": [
    " "
   ]
  },
  {
   "cell_type": "markdown",
   "id": "bbc00563",
   "metadata": {},
   "source": [
    "# 4. Mocking"
   ]
  },
  {
   "cell_type": "markdown",
   "id": "1ac7c300",
   "metadata": {},
   "source": [
    "Mock is versatile and can mock almost anythings in many different ways:\n",
    "## 4.1. Mocking a function\n",
    "create a mock object to replace a function and set the return value or side effect:"
   ]
  },
  {
   "cell_type": "code",
   "execution_count": null,
   "id": "c91735c2",
   "metadata": {},
   "outputs": [],
   "source": [
    "%%ipytest -qq\n",
    "from unittest.mock import Mock\n",
    "\n",
    "def function_example():\n",
    "    return \"return function\"\n",
    "\n",
    "def test_function_example():\n",
    "    function_example = Mock()\n",
    "    function_example.return_value = \"mocked return function\"\n",
    "\n",
    "    result = function_example()\n",
    "    assert result == \"mocked return function\"\n"
   ]
  },
  {
   "cell_type": "markdown",
   "id": "8ef486ae",
   "metadata": {},
   "source": [
    "## 4.2. Mocking a method of a class\n",
    "create a mock object for a method within a class:"
   ]
  },
  {
   "cell_type": "code",
   "execution_count": null,
   "id": "1b844e3d",
   "metadata": {},
   "outputs": [],
   "source": [
    "%%ipytest -qq\n",
    "from unittest.mock import Mock\n",
    "\n",
    "class MyClass:\n",
    "    def my_method(self):\n",
    "        return \"method result\"\n",
    "\n",
    "\n",
    "def test_my_class_my_method():\n",
    "    # Create a mock object for the method\n",
    "    mock_method = Mock()\n",
    "    mock_method.return_value = \"Mocked method result\"\n",
    "\n",
    "    # Replace the method with the mock object\n",
    "    MyClass.my_method = mock_method\n",
    "\n",
    "    # Create an instance of the class and call the mocked method\n",
    "    result = MyClass().my_method()\n",
    "    assert result == \"Mocked method result\"\n"
   ]
  },
  {
   "cell_type": "markdown",
   "id": "568a5f6c",
   "metadata": {},
   "source": [
    "## 4.3. Mocking a class\n",
    "create a mock object for the entire class:  \n",
    "\n",
    "`Mock(spec=MyClass)` vs `Mock()`?"
   ]
  },
  {
   "cell_type": "code",
   "execution_count": null,
   "id": "aca4f495",
   "metadata": {
    "scrolled": true
   },
   "outputs": [],
   "source": [
    "%%ipytest\n",
    "from unittest.mock import Mock\n",
    "\n",
    "class MyClass:\n",
    "    def __init__(self, a):\n",
    "        self.a = a\n",
    "    def my_method(self):\n",
    "        return \"method result\"\n",
    "\n",
    "# pass or fail?\n",
    "def test_my_class():\n",
    "    # Create a mock object for the class\n",
    "    from __main__ import MyClass\n",
    "    \n",
    "    mock_class = Mock(spec=MyClass)\n",
    "#     mock_class = Mock()\n",
    "    \n",
    "    mock_class.my_method.return_value = \"Mocked method result\"\n",
    "\n",
    "    MyClass = mock_class\n",
    "\n",
    "    result = MyClass.my_method()\n",
    "    \n",
    "    assert result == \"Mocked method result\"\n"
   ]
  },
  {
   "cell_type": "markdown",
   "id": "882f83a8",
   "metadata": {},
   "source": [
    " "
   ]
  },
  {
   "cell_type": "markdown",
   "id": "954b36d7",
   "metadata": {},
   "source": [
    "R: Using `Mock(spec=MyClass)` creates a mock object that is **restricted to the attributes and methods** of the MyClass class, ensuring that the mock object adheres to the expected interface.\n",
    "\n",
    "Conversely, using `Mock()` creates a mock object without any restrictions on its attributes or methods, which can lead to **less strict tests**."
   ]
  },
  {
   "cell_type": "markdown",
   "id": "a290c680",
   "metadata": {},
   "source": [
    "  "
   ]
  },
  {
   "cell_type": "markdown",
   "id": "6be2c936",
   "metadata": {},
   "source": [
    " "
   ]
  },
  {
   "cell_type": "markdown",
   "id": "162b5105",
   "metadata": {},
   "source": [
    "## 4.4. Mocking an object's attributes\n",
    "\n",
    "Create a mock object to replace an attribute of another object:"
   ]
  },
  {
   "cell_type": "code",
   "execution_count": null,
   "id": "c587e847",
   "metadata": {},
   "outputs": [],
   "source": [
    "%%ipytest -qq\n",
    "from unittest.mock import Mock\n",
    "\n",
    "class MyClass:\n",
    "    def __init__(self):\n",
    "        self.attribute = \"attribute value\"\n",
    "\n",
    "\n",
    "def test_my_class_attr():\n",
    "    # Create a mock object for the attribute\n",
    "    mock_attribute = Mock()\n",
    "    mock_attribute.return_value = \"Mocked attribute value\"\n",
    "\n",
    "    # Create an instance of the class and replace the attribute with the mock object\n",
    "    instance = MyClass()\n",
    "    instance.attribute = mock_attribute\n",
    "\n",
    "    # Access the mocked attribute and verify the return value\n",
    "    result = instance.attribute()\n",
    "    assert result == \"Mocked attribute value\"\n",
    "\n",
    "# Another way...\n",
    "\n",
    "def test_my_class_attr2():\n",
    "    instance = MyClass()\n",
    "    instance.attribute = Mock()\n",
    "    instance.attribute.return_value = \"Mocked attribute value\"\n",
    "    \n",
    "    result = instance.attribute()\n",
    "    assert result == \"Mocked attribute value\"\n",
    "    \n",
    "   "
   ]
  },
  {
   "cell_type": "markdown",
   "id": "424d58dc",
   "metadata": {},
   "source": [
    "# 5. Assertions and Inspection\n",
    "`Mock` instances store data on how you used them, you can see if you called a method, how you called and methos, and so on.\n",
    "\n",
    "\n",
    "- assert_called\n",
    "- assert_called_once\n",
    "- assert_called_with\n",
    "- assert_called_once_with\n",
    "- assert_not_called\n",
    "\n",
    "\n",
    "- _assert_ mocked_object.**call_count**\n",
    "\n",
    "```\n",
    "from unittest.mock import Mock, call\n",
    "```\n",
    "- _assert_ mocked_object.**call_args**\n",
    "- _assert_ mocked_object.**call_args_list**\n",
    "- _assert_ mocked_object.**method_calls**\n",
    "\n"
   ]
  },
  {
   "cell_type": "code",
   "execution_count": null,
   "id": "7d406644",
   "metadata": {
    "scrolled": true
   },
   "outputs": [],
   "source": [
    "%%ipytest -qq\n",
    "from unittest.mock import Mock\n",
    "\n",
    "def test_assertions1():\n",
    "    import json\n",
    "    json = Mock(spec=json)\n",
    "    json.dumps.return_value = '{\"a\":\"1\"}'\n",
    "    json.dumps({'a':'1'}) # to Json.\n",
    "    \n",
    "    json.dumps.assert_called()\n",
    "    json.dumps.assert_called_once()\n",
    "    json.dumps.assert_called_once_with({'a':'1'})\n",
    "    json.loads.assert_not_called()"
   ]
  },
  {
   "cell_type": "code",
   "execution_count": null,
   "id": "96989e17",
   "metadata": {
    "scrolled": true
   },
   "outputs": [],
   "source": [
    "%%ipytest -qq\n",
    "from unittest.mock import Mock\n",
    "\n",
    "def test_assertions2():\n",
    "    import json\n",
    "    json = Mock(spec=json)\n",
    "    json.dumps.return_value = '{\"a\":\"1\"}'\n",
    "    \n",
    "    for _ in range(2):\n",
    "        json.dumps({'a':'1'}) # to Json.\n",
    "    \n",
    "    assert json.dumps.call_count == 2"
   ]
  },
  {
   "cell_type": "code",
   "execution_count": null,
   "id": "f26ced1e",
   "metadata": {},
   "outputs": [],
   "source": [
    "%%ipytest -qq\n",
    "from unittest.mock import Mock, call\n",
    "\n",
    "def test_assertions3():\n",
    "    import json\n",
    "    json = Mock(spec=json)\n",
    "    json.dumps.return_value = '{\"a\":\"1\"}'\n",
    "    json.dumps({'a':'1'}) # to Json.\n",
    "    \n",
    "    assert json.dumps.call_args() == {'a':'1'}"
   ]
  },
  {
   "cell_type": "code",
   "execution_count": null,
   "id": "a0d16b02",
   "metadata": {},
   "outputs": [],
   "source": [
    "%%ipytest -qq\n",
    "from unittest.mock import Mock, call\n",
    "\n",
    "def test_assertions4():\n",
    "    import json\n",
    "    json = Mock(spec=json)\n",
    "\n",
    "    json.dumps({'a':'1'}) # dict -> Json\n",
    "    json.loads(b'{\"b\":\"2\"}') # Json -> dict\n",
    "    \n",
    "    assert json.method_calls == [\n",
    "                                    call.dumps({'a': '1'}),\n",
    "                                    call.loads(b'{\"b\":\"2\"}')\n",
    "                                ]\n"
   ]
  },
  {
   "cell_type": "markdown",
   "id": "eda4cfd3",
   "metadata": {},
   "source": [
    " "
   ]
  },
  {
   "cell_type": "markdown",
   "id": "5947aa44",
   "metadata": {},
   "source": [
    "# 6. `return_value` and `side_effect`"
   ]
  },
  {
   "cell_type": "markdown",
   "id": "c2f841dc",
   "metadata": {},
   "source": [
    "## 6.1. What if I don't use `return_value`?\n",
    "\n",
    "You can still mock an object without using `return_value`. If you don't set the `return_value`, the mock object will return another mock object when called. This can be useful in various scenarios:\n",
    "\n",
    "1. Chaining method calls:\n",
    "> When you have a series of method calls, you can use the default behavior of the mock object to create a chain of mock objects without explicitly setting the `return_value`.\n",
    "2. Testing method calls without caring about return values.\n",
    "> Sometimes, you only need to test whether a method or function is called with the correct arguments or the right number of times. In these cases, you don't need to set a return_value because you're not testing the `return_value` itself.\n",
    "3. Using `side_effect` instead of `return_value`.\n",
    "> You might want to use the `side_effect` attribute to define more complex behavior or simulate exceptions when the mock object is called, rather than a static `return_value`.\n",
    "    "
   ]
  },
  {
   "cell_type": "markdown",
   "id": "b569f725",
   "metadata": {},
   "source": [
    "## 6.2 Examples and uses"
   ]
  },
  {
   "cell_type": "markdown",
   "id": "a75307b3",
   "metadata": {},
   "source": [
    "### 6.2.1. Chaining method calls"
   ]
  },
  {
   "cell_type": "code",
   "execution_count": null,
   "id": "f76b9c57",
   "metadata": {},
   "outputs": [],
   "source": [
    "from unittest.mock import Mock\n",
    "\n",
    "mock_object = Mock()\n",
    "\n",
    "# Calling mock_object() returns another mock object\n",
    "result = mock_object()\n",
    "result2 = result.some_method()\n",
    "\n",
    "# result and result2 are both new mock objects ¯\\_(ツ)_/¯\n",
    "result2"
   ]
  },
  {
   "cell_type": "markdown",
   "id": "02cf76ed",
   "metadata": {},
   "source": [
    "### 6.2.2. Testing method calls without caring about return values"
   ]
  },
  {
   "cell_type": "code",
   "execution_count": null,
   "id": "a1d81ead",
   "metadata": {},
   "outputs": [],
   "source": [
    "%%ipytest -qq\n",
    "from unittest.mock import Mock\n",
    "\n",
    "def function_to_test(lil_function):\n",
    "    lil_function({'value': 1})\n",
    "\n",
    "def test_function_to_test():\n",
    "    lil_function = Mock()\n",
    "    function_to_test(lil_function)\n",
    "\n",
    "    # Assert that the lil_function was called once with the correct argument\n",
    "    lil_function.assert_called_once_with({'value': 1})\n"
   ]
  },
  {
   "cell_type": "markdown",
   "id": "e2a83dae",
   "metadata": {},
   "source": [
    "### 6.2.3. Using `side_effect` instead of `return_value`.    "
   ]
  },
  {
   "cell_type": "code",
   "execution_count": null,
   "id": "461d8d74",
   "metadata": {},
   "outputs": [],
   "source": [
    "%%ipytest -qq\n",
    "from unittest.mock import Mock\n",
    "\n",
    "def custom_side_effect(*args, **kwargs):\n",
    "    return args[0] * 2\n",
    "\n",
    "\n",
    "def test_function():\n",
    "    mock_function = Mock()\n",
    "    mock_function.side_effect = custom_side_effect\n",
    "    result = mock_function(10)\n",
    "    assert result == 20"
   ]
  },
  {
   "cell_type": "markdown",
   "id": "eccd50d0",
   "metadata": {},
   "source": [
    " "
   ]
  },
  {
   "cell_type": "markdown",
   "id": "0894c0aa",
   "metadata": {},
   "source": [
    "## 6.3. `side_effect` can also be an iterable\n",
    "\n",
    "The iterable must consist of return values, exceptions, or a mixture of both. "
   ]
  },
  {
   "cell_type": "code",
   "execution_count": null,
   "id": "5646dd46",
   "metadata": {},
   "outputs": [],
   "source": [
    "def get_temperature(location):\n",
    "    # Simulating API call to fetch temperature for the given location\n",
    "    pass"
   ]
  },
  {
   "cell_type": "code",
   "execution_count": null,
   "id": "f3e49038",
   "metadata": {},
   "outputs": [],
   "source": [
    "%%ipytest -qq\n",
    "from unittest.mock import Mock\n",
    "\n",
    "\n",
    "def test_get_temperature():\n",
    "    # mock responses\n",
    "    temperature_responses = [72, 32, 40]\n",
    "\n",
    "    get_temperature = Mock()\n",
    "    get_temperature.side_effect = temperature_responses\n",
    "    \n",
    "    temp1 = get_temperature('Chicago')\n",
    "    temp2 = get_temperature('New York')\n",
    "    temp3 = get_temperature('San Francisco')\n",
    "    \n",
    "    assert temp1 == temperature_responses[0]\n",
    "    assert temp2 == temperature_responses[1]\n",
    "    assert temp3 == temperature_responses[2]"
   ]
  },
  {
   "cell_type": "markdown",
   "id": "9db6d0c3",
   "metadata": {},
   "source": [
    "  "
   ]
  },
  {
   "cell_type": "markdown",
   "id": "ecd2c4bf",
   "metadata": {},
   "source": [
    "## 6.4. Exceptions using `side_effect`\n",
    "- Case 1:"
   ]
  },
  {
   "cell_type": "code",
   "execution_count": null,
   "id": "aac23078",
   "metadata": {
    "scrolled": true
   },
   "outputs": [],
   "source": [
    "%%ipytest -qq\n",
    "from unittest.mock import Mock\n",
    "from requests.exceptions import Timeout\n",
    "import requests\n",
    "\n",
    "def get_holidays():\n",
    "    r = requests.get('http://localhost/api/holidays')\n",
    "    if r.status_code == 200:\n",
    "        return r.json()\n",
    "    return None\n",
    "\n",
    "def test_get_holidays_timeout():\n",
    "    requests = Mock()\n",
    "    requests.get.side_effect = Timeout\n",
    "    try:\n",
    "        result = requests.get()\n",
    "    except Timeout as e:\n",
    "        assert isinstance(e, Timeout)\n"
   ]
  },
  {
   "cell_type": "markdown",
   "id": "239c8e13",
   "metadata": {},
   "source": [
    "- Case 2:  \n",
    "(Eaiser with Context Manager...)"
   ]
  },
  {
   "cell_type": "code",
   "execution_count": null,
   "id": "c4ffadfd",
   "metadata": {
    "scrolled": true
   },
   "outputs": [],
   "source": [
    "%%ipytest -qq\n",
    "import pytest\n",
    "from unittest.mock import Mock\n",
    "from requests.exceptions import Timeout\n",
    "\n",
    "\n",
    "def get_holidays():\n",
    "    r = requests.get('http://localhost/api/holidays')\n",
    "    if r.status_code == 200:\n",
    "        return r.json()\n",
    "    return None\n",
    "\n",
    "def test_get_holidays_timeout():\n",
    "    requests = Mock()\n",
    "    requests.get.side_effect = Timeout\n",
    "    with pytest.raises(Timeout):\n",
    "        requests.get()"
   ]
  },
  {
   "cell_type": "markdown",
   "id": "e9a81f46",
   "metadata": {},
   "source": [
    " "
   ]
  },
  {
   "cell_type": "markdown",
   "id": "cc4ddf76",
   "metadata": {},
   "source": [
    "# 7. Testing Exceptions with `pytest.raises`\n",
    "\n",
    "`pytest.raises` is a *context manager* provided by the *pytest* testing framework. It is used to **assert that a specific exception is raised** within a block of code. This is helpful when you want to test that your code handles exceptional situations correctly.\n",
    "\n",
    "Here are some examples to demonstrate the usage of `pytest.raises`:"
   ]
  },
  {
   "cell_type": "markdown",
   "id": "b91c6112",
   "metadata": {},
   "source": [
    "Example 1: Basic Usage"
   ]
  },
  {
   "cell_type": "code",
   "execution_count": null,
   "id": "b3cb151a",
   "metadata": {
    "scrolled": true
   },
   "outputs": [],
   "source": [
    "%%ipytest -qq\n",
    "import pytest\n",
    "from unittest.mock import Mock\n",
    "\n",
    "\n",
    "# Suppose you have a function divide that raises a ZeroDivisionError when the divisor is zero:\n",
    "def divide(a, b):\n",
    "    return a / b\n",
    "\n",
    "def test_devide_zero_division():\n",
    "    with pytest.raises(ZeroDivisionError):\n",
    "        divide(1,0)"
   ]
  },
  {
   "cell_type": "markdown",
   "id": "94e0d48d",
   "metadata": {},
   "source": [
    "Example 2: Matching Exception Message"
   ]
  },
  {
   "cell_type": "code",
   "execution_count": null,
   "id": "06120869",
   "metadata": {},
   "outputs": [],
   "source": [
    "%%ipytest -qq\n",
    "import pytest\n",
    "from unittest.mock import Mock\n",
    "\n",
    "\n",
    "def greeting(name):\n",
    "    if not name:\n",
    "        raise ValueError('Name cannot be empty')\n",
    "    return f'Hello, {name}!'\n",
    "\n",
    "def test_gretting_empty_name():\n",
    "    with pytest.raises(ValueError, match='Name cannot be empty'):\n",
    "        greeting('')"
   ]
  },
  {
   "cell_type": "markdown",
   "id": "6320a88b",
   "metadata": {},
   "source": [
    "Example 3: Using the Raised Exception\n",
    "\n",
    "In the example, *e* is an instance of ExceptionInfo, which holds information about the captured exception."
   ]
  },
  {
   "cell_type": "code",
   "execution_count": null,
   "id": "5594e695",
   "metadata": {},
   "outputs": [],
   "source": [
    "%%ipytest -qq\n",
    "import pytest\n",
    "from unittest.mock import Mock\n",
    "\n",
    "\n",
    "def parse_number(number_string):\n",
    "    if not number_string.isdigit():\n",
    "        raise ValueError(\"Input string must contain only digits\")\n",
    "    return int(number_string)\n",
    "\n",
    "def test_parse_number_error():\n",
    "    with pytest.raises(ValueError) as e:\n",
    "        parse_number('a')\n",
    "\n",
    "#     assert e.type == ValueError\n",
    "    assert str(e.value) == 'Input string must contain only digits'"
   ]
  },
  {
   "cell_type": "markdown",
   "id": "d7b81dee",
   "metadata": {},
   "source": [
    " "
   ]
  },
  {
   "cell_type": "markdown",
   "id": "f9ad49ad",
   "metadata": {},
   "source": [
    "# 8. Configuring Your Mock\n",
    "Fancy way to mocking objects"
   ]
  },
  {
   "cell_type": "code",
   "execution_count": null,
   "id": "fca8e602",
   "metadata": {
    "scrolled": true
   },
   "outputs": [],
   "source": [
    "from unittest.mock import Mock\n",
    "\n",
    "mock = Mock(side_effect = Exception)\n",
    "mock()\n",
    "\n",
    "# Same as:\n",
    "#     mock = Mock()\n",
    "#     mock.side_effect = Exception\n",
    "#     mock()"
   ]
  },
  {
   "cell_type": "markdown",
   "id": "139324f7",
   "metadata": {},
   "source": [
    "The purpose of setting the `name` parameter is to give the mock object a recognizable name."
   ]
  },
  {
   "cell_type": "code",
   "execution_count": null,
   "id": "b690fe6f",
   "metadata": {
    "scrolled": true
   },
   "outputs": [],
   "source": [
    "from unittest.mock import Mock\n",
    "\n",
    "mock = Mock(name = 'mock carmax')\n",
    "mock()\n",
    "\n",
    "# Mock(**{'name':'mock kmx'})"
   ]
  },
  {
   "cell_type": "markdown",
   "id": "d739dbe0",
   "metadata": {},
   "source": [
    "  "
   ]
  },
  {
   "cell_type": "markdown",
   "id": "7f031832",
   "metadata": {},
   "source": [
    "By unpacking a dictionary into either `.configure_mock()` or `Mock.__init__()`, you can even configure your Python mock object’s attributes."
   ]
  },
  {
   "cell_type": "markdown",
   "id": "54109990",
   "metadata": {},
   "source": [
    "**Verbose, old Mock:**"
   ]
  },
  {
   "cell_type": "code",
   "execution_count": null,
   "id": "dcfdaf42",
   "metadata": {},
   "outputs": [],
   "source": [
    "from unittest.mock import Mock\n",
    "\n",
    "response_mock = Mock()\n",
    "response_mock.json.return_value = {\n",
    "    '12/25': 'Christmas',\n",
    "    '7/4': 'Independence Day',\n",
    "}\n",
    "\n",
    "response_mock.json()"
   ]
  },
  {
   "cell_type": "markdown",
   "id": "4793db75",
   "metadata": {},
   "source": [
    "**Elegaaaaante! new `.configure_mock()`:**"
   ]
  },
  {
   "cell_type": "code",
   "execution_count": null,
   "id": "cd1ad575",
   "metadata": {},
   "outputs": [],
   "source": [
    "from unittest.mock import Mock\n",
    "\n",
    "holidays = {'12/25': 'Christmas', '7/4': 'Independence Day'}\n",
    "response_mock = Mock(**{'json.return_value': holidays})  # similar to Pydantic\n",
    "\n",
    "response_mock.json()"
   ]
  },
  {
   "cell_type": "markdown",
   "id": "0d45ee4a",
   "metadata": {},
   "source": [
    " "
   ]
  },
  {
   "cell_type": "markdown",
   "id": "0b230cad",
   "metadata": {},
   "source": [
    "# 9. `patch()`\n",
    "```python\n",
    "from unittest.mock import patch\n",
    "```\n",
    "It's a powerful mechanism for mocking objects. \n",
    "\n",
    "Up to this point, you’ve **monkey patched** objects in the file in which they exist (*local scope*). `Monkey patching` is the replacement of one object with another at runtime.\n",
    "\n",
    "\n",
    "<div class=\"alert alert-block alert-info\">\n",
    "\n",
    "looks up an object in a given module and replaces that object with a Mock.\n",
    "\n",
    "</div>"
   ]
  },
  {
   "cell_type": "markdown",
   "id": "d566263d",
   "metadata": {},
   "source": [
    "## 9.1. Using `patch()` as a decorator:\n",
    "If you want to mock an object for the duration of your entire test function, you can use `patch()` as a function `decorator`."
   ]
  },
  {
   "cell_type": "code",
   "execution_count": null,
   "id": "d1e81694",
   "metadata": {
    "scrolled": true
   },
   "outputs": [],
   "source": [
    "cat examples.py"
   ]
  },
  {
   "cell_type": "markdown",
   "id": "5e2677be",
   "metadata": {},
   "source": [
    "can you see any difference between `test_get_holidays_timeout_1` and `test_get_holidays_timeout_1`?"
   ]
  },
  {
   "cell_type": "code",
   "execution_count": null,
   "id": "40c3e1fe",
   "metadata": {},
   "outputs": [],
   "source": [
    "%%ipytest -qq\n",
    "# <another_file.py>\n",
    "from unittest.mock import patch\n",
    "from examples import get_holidays\n",
    "from requests.exceptions import Timeout\n",
    "import pytest\n",
    "\n",
    "\n",
    "@patch('examples.requests')\n",
    "def test_get_holidays_timeout_2(mock_requests):\n",
    "    mock_requests.get.side_effect = Timeout\n",
    "    with pytest.raises(Timeout):\n",
    "        get_holidays()\n",
    "        mock_requests.assert_called_once()\n",
    "        \n",
    "        \n",
    "@patch('examples.requests.get')\n",
    "def test_get_holidays_timeout_1(mock_requests_get):\n",
    "    mock_requests_get.side_effect = Timeout\n",
    "    with pytest.raises(Timeout):\n",
    "        get_holidays()\n",
    "        mock_requests_get.assert_called_once()"
   ]
  },
  {
   "cell_type": "markdown",
   "id": "88af83d8",
   "metadata": {},
   "source": [
    "  "
   ]
  },
  {
   "cell_type": "markdown",
   "id": "7f7de690",
   "metadata": {},
   "source": [
    "## 9.2. Using patch() as a context manager:\n",
    "Using `patch()` as a context manager with the `with` statement ensures the target object is restored to its original state after the block of code is executed."
   ]
  },
  {
   "cell_type": "code",
   "execution_count": null,
   "id": "ccd4ef64",
   "metadata": {},
   "outputs": [],
   "source": [
    "%%ipytest -qq\n",
    "from unittest.mock import patch\n",
    "from requests.exceptions import Timeout\n",
    "from examples import get_holidays\n",
    "import pytest\n",
    "\n",
    "\n",
    "def test_get_holiday_cm():\n",
    "    # with mocker.patch(\"\") as mock_some_function:\n",
    "    with patch(\"examples.requests\") as mock_requests:\n",
    "        mock_requests.get.side_effect = Timeout\n",
    "        with pytest.raises(Timeout):\n",
    "            get_holidays()\n",
    "            mock_requests.assert_called_once()"
   ]
  },
  {
   "cell_type": "markdown",
   "id": "36d4fc0b",
   "metadata": {},
   "source": [
    "  "
   ]
  },
  {
   "cell_type": "markdown",
   "id": "62aec705",
   "metadata": {},
   "source": [
    "## 9.3. Using patch() manually:\n",
    "\n",
    "You can also **start** and **stop** the patching manually, but make sure to call `stop()` in a finally block to guarantee the target object is restored, even if an exception occurs.\n",
    "\n",
    "<div class=\"alert alert-block alert-warning\">\n",
    "    \n",
    "When using `mocker.patch()` from the `pytest-mock` plugin, you don't need to call `start()` and `stop()` manually. The pytest-mock plugin simplifies the process of working with unittest.mock.patch in pytest by automatically handling the starting and stopping of the patch for you.\n",
    "</div>"
   ]
  },
  {
   "cell_type": "code",
   "execution_count": null,
   "id": "799aba5d",
   "metadata": {},
   "outputs": [],
   "source": [
    "%%ipytest -qq\n",
    "from unittest.mock import patch\n",
    "from examples import get_holidays\n",
    "from requests.exceptions import Timeout\n",
    "\n",
    "def test_get_holidays_timeout_manually():\n",
    "#     mock_requests = mocker.patch(\"examples.get_holidays\")\n",
    "    mock_requests = patch(\"examples.requests\").start()\n",
    "    mock_requests.get.side_effect = Timeout\n",
    "    try:\n",
    "        get_holidays()\n",
    "    except Timeout as e:\n",
    "        assert isinstance(e, Timeout)\n",
    "    finally:\n",
    "        mock_requests.stop()"
   ]
  },
  {
   "cell_type": "code",
   "execution_count": null,
   "id": "2b887f3c",
   "metadata": {},
   "outputs": [],
   "source": [
    "%%ipytest -qq\n",
    "from unittest.mock import patch\n",
    "from examples import get_holidays\n",
    "from requests.exceptions import Timeout\n",
    "import pytest\n",
    "\n",
    "def test_get_holidays_timeout_manually():\n",
    "#     mock_requests = mocker.patch(\"examples.get_holidays\")\n",
    "    mock_requests = patch(\"examples.requests\").start()\n",
    "    mock_requests.get.side_effect = Timeout\n",
    "    with pytest.raises(Timeout):\n",
    "        get_holidays()\n",
    "        mock_requests.assert_called_once()\n",
    "    mock_requests.stop()"
   ]
  },
  {
   "cell_type": "markdown",
   "id": "b0e11989",
   "metadata": {},
   "source": [
    "  "
   ]
  },
  {
   "cell_type": "markdown",
   "id": "0e0a88aa",
   "metadata": {},
   "source": [
    "# 10. Patching an Object’s Attributes:\n",
    "\n",
    "Let’s say you only want to mock one method of an object instead of the entire object. You can do so by using `patch.object()`.  \n",
    "\n",
    "For example, `test_get_holidays_timeout()` really only needs to mock `requests.get()` and set its `side_effect` to `Timeout`:"
   ]
  },
  {
   "cell_type": "code",
   "execution_count": null,
   "id": "e1c1b90c",
   "metadata": {},
   "outputs": [],
   "source": [
    "ll examples.py"
   ]
  },
  {
   "cell_type": "code",
   "execution_count": null,
   "id": "4298e7a5",
   "metadata": {
    "scrolled": true
   },
   "outputs": [],
   "source": [
    "cat examples.py"
   ]
  },
  {
   "cell_type": "markdown",
   "id": "a7424d45",
   "metadata": {},
   "source": [
    "Use `patch.object()` to mock the `multiply` method of the Calculator instance"
   ]
  },
  {
   "cell_type": "code",
   "execution_count": null,
   "id": "d7b4078e",
   "metadata": {
    "scrolled": true
   },
   "outputs": [],
   "source": [
    "%%ipytest -qq\n",
    "from examples import Calculator\n",
    "\n",
    "\n",
    "def test_calculator_add_with_mocked_multiply_not_called(mocker):\n",
    "    calculator = Calculator()\n",
    "    \n",
    "    mock_multiply = mocker.patch.object(calculator, 'multiply')\n",
    "    mock_multiply.return_value = 10\n",
    "    result = calculator.add(2, 3)\n",
    "    \n",
    "    assert result == 5\n",
    "    mock_multiply.assert_not_called()\n",
    "    \n",
    "def test_calculator_add_with_mocked_multiply_called(mocker):\n",
    "    calculator = Calculator()\n",
    "    mock_multiply = mocker.patch.object(calculator, 'multiply', return_value = 10)\n",
    "   \n",
    "    assert calculator.multiply(1,1) == 10\n"
   ]
  },
  {
   "cell_type": "markdown",
   "id": "5f8db7b8",
   "metadata": {},
   "source": [
    " "
   ]
  },
  {
   "cell_type": "markdown",
   "id": "1f5638d1",
   "metadata": {},
   "source": [
    "## 10.1 Patching attributes and functions:"
   ]
  },
  {
   "cell_type": "code",
   "execution_count": null,
   "id": "272357e8",
   "metadata": {},
   "outputs": [],
   "source": [
    "# import ipytest\n",
    "# ipytest.autoconfig()"
   ]
  },
  {
   "cell_type": "markdown",
   "id": "6682c95c",
   "metadata": {},
   "source": [
    "You can patch both _attributes_ and _functions of objects_."
   ]
  },
  {
   "cell_type": "markdown",
   "id": "01af75cd",
   "metadata": {},
   "source": [
    "We will `patch()` the `randint` function."
   ]
  },
  {
   "cell_type": "code",
   "execution_count": null,
   "id": "69947afb",
   "metadata": {
    "scrolled": true
   },
   "outputs": [],
   "source": [
    "cat examples.py"
   ]
  },
  {
   "cell_type": "markdown",
   "id": "dddcb6e8",
   "metadata": {},
   "source": [
    "the `patch` you want to patch:\n",
    "\n",
    "<div class=\"alert alert-block alert-danger\">\n",
    "    \n",
    "When specifying the _path_ you want to _patch_, you need to take care to point to **where it's being used, not where it's defined**.\n",
    "    \n",
    "</div>\n",
    "    \n",
    "let's see an example:"
   ]
  },
  {
   "cell_type": "markdown",
   "id": "eff912ed",
   "metadata": {},
   "source": [
    "**Bad path**"
   ]
  },
  {
   "cell_type": "code",
   "execution_count": null,
   "id": "19ede44f",
   "metadata": {
    "scrolled": false
   },
   "outputs": [],
   "source": [
    "%%ipytest -qq\n",
    "from unittest.mock import patch\n",
    "from examples import rand_numbers\n",
    "\n",
    "\n",
    "@patch('random.randint')\n",
    "def test_calculator_patch_randint():\n",
    "    assert rand_numbers(1) == 10"
   ]
  },
  {
   "cell_type": "markdown",
   "id": "fd9799f8",
   "metadata": {},
   "source": [
    "**Good path**"
   ]
  },
  {
   "cell_type": "code",
   "execution_count": null,
   "id": "99788848",
   "metadata": {},
   "outputs": [],
   "source": [
    "%%ipytest -qq\n",
    "from unittest.mock import patch\n",
    "from examples import rand_numbers\n",
    "\n",
    "@patch('examples.randint', return_value = 55)\n",
    "def test_calculator_patch_randint(mock_randint):\n",
    "    assert rand_numbers(1) == 55"
   ]
  },
  {
   "cell_type": "markdown",
   "id": "5526702c",
   "metadata": {},
   "source": [
    "### 10.1.1 Autospec"
   ]
  },
  {
   "cell_type": "markdown",
   "id": "3c0463e2",
   "metadata": {},
   "source": [
    "```python\n",
    "autospec=True\n",
    "```\n",
    "Using `autospec=True` can help catch errors in your tests, such as typos or incorrect method signatures, because the mock object will only allow you to call methods and access attributes that exist in the original object. If you try to access a nonexistent method or attribute on the mock object, you will get an `AttributeError`."
   ]
  },
  {
   "cell_type": "code",
   "execution_count": null,
   "id": "f576cbdb",
   "metadata": {
    "scrolled": true
   },
   "outputs": [],
   "source": [
    "%%ipytest -qq\n",
    "import pytest\n",
    "from unittest.mock import patch\n",
    "from examples import Calculator\n",
    "\n",
    "@patch.object(Calculator, 'add', autospec=True)\n",
    "def test_calculator_multiply_with_add_patch(mock_add):\n",
    "    mock_add.return_value = 7\n",
    "    calc = Calculator()\n",
    "    \n",
    "    assert calc.add(3, 4) == 7\n",
    "    mock_add.assert_called_with(calc, 3, 4)"
   ]
  },
  {
   "cell_type": "markdown",
   "id": "e5394ac7",
   "metadata": {},
   "source": [
    "<div class=\"alert alert-block alert-info\">\n",
    "\n",
    "`mock_add.assert_called_with(calc, 3, 4)` in the test requires an instance as an argument because we are using `autospec=True` when patching the `add` method of the `Calculator` class. When `autospec=True`, the mock object closely replicates the original method, including its signature.\n",
    "    \n",
    "</div>"
   ]
  },
  {
   "cell_type": "code",
   "execution_count": null,
   "id": "b2c2d3f4",
   "metadata": {},
   "outputs": [],
   "source": [
    "%%ipytest -qq\n",
    "import pytest\n",
    "from unittest.mock import patch\n",
    "from examples import Calculator\n",
    "\n",
    "@patch.object(Calculator, 'add')\n",
    "def test_calculator_multiply_with_add_patch(mock_add):\n",
    "    mock_add.return_value = 7\n",
    "    calc = Calculator()\n",
    "    \n",
    "    assert calc.add(3, 4) == 7\n",
    "    mock_add.assert_called_with(3, 4)"
   ]
  },
  {
   "cell_type": "markdown",
   "id": "47c17060",
   "metadata": {},
   "source": [
    "  "
   ]
  },
  {
   "cell_type": "markdown",
   "id": "248abca9",
   "metadata": {},
   "source": [
    "### 10.1.2 Cascading Decorators"
   ]
  },
  {
   "cell_type": "markdown",
   "id": "31bf7e6e",
   "metadata": {},
   "source": [
    "**How about patching 2 decorators in a test?**\n",
    "The patched functions are passed as arguments to the test function in the order they were applied."
   ]
  },
  {
   "cell_type": "code",
   "execution_count": null,
   "id": "a4326b56",
   "metadata": {},
   "outputs": [],
   "source": [
    "%%ipytest -qq\n",
    "from unittest.mock import patch\n",
    "from examples import calculate_average\n",
    "\n",
    "@patch('examples.sum', return_value = 20)\n",
    "@patch('examples.len', return_value = 4)\n",
    "def test_calculate_average(mock_len, mock_sum):\n",
    "    mock_numbers = [2, 4, 6, 8]\n",
    "    result = calculate_average([2, 4, 6, 8])\n",
    "\n",
    "    assert result == 5\n",
    "    mock_sum.assert_called_once_with(mock_numbers)\n",
    "    mock_len.assert_called_once_with(mock_numbers)\n"
   ]
  },
  {
   "cell_type": "code",
   "execution_count": null,
   "id": "bd8b7399",
   "metadata": {},
   "outputs": [],
   "source": [
    "%%ipytest -qq\n",
    "from unittest.mock import patch\n",
    "from examples import calculate_average\n",
    "\n",
    "def test_calculate_average(mocker):\n",
    "    mock_sum = mocker.patch('examples.sum', return_value = 20)\n",
    "    mock_len = mocker.patch('examples.len', return_value = 4)\n",
    "    mock_numbers = [2, 4, 6, 8]\n",
    "    result = calculate_average([2, 4, 6, 8])\n",
    "\n",
    "    assert result == 5\n",
    "    mock_sum.assert_called_once_with(mock_numbers)\n",
    "    mock_len.assert_called_once_with(mock_numbers)"
   ]
  },
  {
   "cell_type": "markdown",
   "id": "41bfd8e1",
   "metadata": {},
   "source": [
    " "
   ]
  },
  {
   "cell_type": "markdown",
   "id": "1417b372",
   "metadata": {},
   "source": [
    "## 10.2. Patching classes and instances:\n",
    "\n",
    "Patching classes allows you to intercept instance creation and replace the instances with mock objects. This is particularly useful when testing class methods."
   ]
  },
  {
   "cell_type": "code",
   "execution_count": null,
   "id": "1c6b466a",
   "metadata": {},
   "outputs": [],
   "source": [
    "%%ipytest -qq\n",
    "from unittest.mock import patch\n",
    "from examples import Calculator\n",
    "\n",
    "def test_class_method(mocker):\n",
    "    mock_calculator = mocker.patch('examples.Calculator', autospec=True)\n",
    "    mock_calculator.return_value.add.return_value = 5\n",
    "    \n",
    "    calculator = mock_calculator()\n",
    "    assert calculator.add(2,3) == 5\n",
    "    calculator.add.assert_called_once_with(2, 3)"
   ]
  },
  {
   "cell_type": "markdown",
   "id": "6af98c43",
   "metadata": {},
   "source": [
    " "
   ]
  },
  {
   "cell_type": "markdown",
   "id": "5846ae79",
   "metadata": {},
   "source": [
    "## 10.3 Where to Patch\n",
    "\n",
    "Knowing where to tell `patch()` to look for the object you want mocked is important because if you choose the wrong target location, the result of `patch()` could be something you didn’t expect."
   ]
  },
  {
   "cell_type": "code",
   "execution_count": null,
   "id": "e8561b8c",
   "metadata": {},
   "outputs": [],
   "source": [
    "%%ipytest -qq\n",
    "import examples\n",
    "\n",
    "with patch('examples.rand_numbers'):\n",
    "    print(examples.rand_numbers(2))"
   ]
  },
  {
   "cell_type": "code",
   "execution_count": null,
   "id": "40bd94d4",
   "metadata": {},
   "outputs": [],
   "source": [
    "%%ipytest -qq\n",
    "from examples import rand_numbers\n",
    "\n",
    "with patch('examples.rand_numbers'):\n",
    "    print(rand_numbers(20))"
   ]
  },
  {
   "cell_type": "markdown",
   "id": "ae7a1a54",
   "metadata": {},
   "source": [
    "What happened there?"
   ]
  },
  {
   "cell_type": "markdown",
   "id": "35694472",
   "metadata": {},
   "source": [
    "<div class=\"alert alert-block alert-success\">\n",
    "\n",
    "### Even though you `patch()` the function, you ignore the mock because you already have a local reference to the un-mocked function.\n",
    "    \n",
    "    A good rule of thumb is to patch() the object where it is looked up.\n",
    "\n",
    "</div>"
   ]
  },
  {
   "cell_type": "markdown",
   "id": "a0f33b7a",
   "metadata": {},
   "source": [
    "Now, can we fix it?"
   ]
  },
  {
   "cell_type": "code",
   "execution_count": null,
   "id": "1d43a2e3",
   "metadata": {},
   "outputs": [],
   "source": [
    "%%ipytest -qq\n",
    "from examples import rand_numbers\n",
    "\n",
    "with patch('__main__.rand_numbers'):\n",
    "    print(rand_numbers(10))"
   ]
  },
  {
   "cell_type": "markdown",
   "id": "a9177cc5",
   "metadata": {},
   "source": [
    " "
   ]
  },
  {
   "cell_type": "markdown",
   "id": "6fcf8208",
   "metadata": {},
   "source": [
    "# 11. pytest fixtures\n",
    "\n",
    "`pytest` fixtures are a powerful feature that helps you to create reusable **setup** and **teardown** code for your tests. They allow you to **define functions** that can be used as inputs for your test functions or to **perform setup** and **cleanup tasks** _before_ and _after_ your tests. "
   ]
  },
  {
   "cell_type": "markdown",
   "id": "45e52d9d",
   "metadata": {},
   "source": [
    "## 11.1 Basic ficture usage"
   ]
  },
  {
   "cell_type": "markdown",
   "id": "a9e8d148",
   "metadata": {},
   "source": [
    "In the following example, we define a fixture called `sample_data` that returns a list of numbers. We then use this fixture in the `test_sum` function by adding it as a parameter. When `pytest` runs the test, it will automatically call the `sample_data` fixture and pass its result to the test function."
   ]
  },
  {
   "cell_type": "code",
   "execution_count": null,
   "id": "1a2ecf79",
   "metadata": {},
   "outputs": [],
   "source": [
    "%%ipytest -qq\n",
    "from unittest.mock import Mock\n",
    "\n",
    "# Define a simple fixture\n",
    "@pytest.fixture\n",
    "def sample_data():\n",
    "    return [1, 2, 3, 4, 5]\n",
    "\n",
    "# Use the fixture in a test\n",
    "def test_sum(sample_data):\n",
    "    assert sum(sample_data) == 15\n"
   ]
  },
  {
   "cell_type": "markdown",
   "id": "db46f610",
   "metadata": {},
   "source": [
    "  "
   ]
  },
  {
   "cell_type": "markdown",
   "id": "330e4dc3",
   "metadata": {},
   "source": [
    "## 11.2 Fixture scope"
   ]
  },
  {
   "cell_type": "markdown",
   "id": "0b1d6758",
   "metadata": {},
   "source": [
    "In the following example, we define a fixture called `database_connection` with a scope of *\"module\"*, which means the fixture will be created once per test module and shared among all tests in that module. This is useful for expensive setup tasks like connecting to a database."
   ]
  },
  {
   "cell_type": "markdown",
   "id": "0cde8f89",
   "metadata": {},
   "source": [
    "```python\n",
    "# conftest.py\n",
    "@pytest.fixture(scope=\"module\")\n",
    "def database_connection():\n",
    "    # Set up the connection\n",
    "    print(\"Setting up database connection\")\n",
    "    connection = create_database_connection()\n",
    "\n",
    "    # Clean up after the tests\n",
    "    yield connection\n",
    "    print(\"Closing database connection\")\n",
    "    connection.close()\n",
    "\n",
    "# test_module.py\n",
    "def test_database_query_1(database_connection):\n",
    "    query_result = database_connection.query(\"SELECT * FROM table1\")\n",
    "    assert query_result is not None\n",
    "\n",
    "def test_database_query_2(database_connection):\n",
    "    query_result = database_connection.query(\"SELECT * FROM table2\")\n",
    "    assert query_result is not None\n",
    "```"
   ]
  },
  {
   "cell_type": "markdown",
   "id": "47414ca0",
   "metadata": {},
   "source": [
    " "
   ]
  },
  {
   "cell_type": "markdown",
   "id": "b108ab90",
   "metadata": {},
   "source": [
    "## 11.3. Fixture dependencies"
   ]
  },
  {
   "cell_type": "markdown",
   "id": "f9119667",
   "metadata": {},
   "source": [
    "In the following example, we define two fixtures: `database_connection` and `table_data`. The `table_data` fixture depends on the `database_connection` fixture, so it takes it as a parameter. When the `table_data` fixture is used in a test, `pytest` will automatically create the `database_connection` fixture first, and then create the `table_data` fixture using the result of the `database_connection` fixture."
   ]
  },
  {
   "cell_type": "markdown",
   "id": "5e47a29b",
   "metadata": {},
   "source": [
    "```python\n",
    "@pytest.fixture\n",
    "def database_connection():\n",
    "    connection = create_database_connection()\n",
    "    yield connection\n",
    "    connection.close()\n",
    "\n",
    "@pytest.fixture\n",
    "def table_data(database_connection):\n",
    "    return database_connection.query(\"SELECT * FROM table\")\n",
    "\n",
    "def test_database_query(table_data):\n",
    "    assert table_data is not None\n",
    "```"
   ]
  },
  {
   "cell_type": "markdown",
   "id": "f52e771b",
   "metadata": {},
   "source": [
    " "
   ]
  },
  {
   "cell_type": "markdown",
   "id": "20f099a8",
   "metadata": {},
   "source": [
    "## 11.4 Parametrized fixtures"
   ]
  },
  {
   "cell_type": "markdown",
   "id": "75820bbf",
   "metadata": {},
   "source": [
    "In the following example, we define a parametrized fixture called `number` that takes a list of parameters. The `request` object is a special fixture that can be used to access the current parameter value. When we use the `number` fixture in the `test_is_odd` test, `pytest` will run the test once for each parameter value, passing the parameter value to the test function."
   ]
  },
  {
   "cell_type": "code",
   "execution_count": null,
   "id": "c069e98b",
   "metadata": {},
   "outputs": [],
   "source": [
    "%%ipytest -qq\n",
    "\n",
    "@pytest.fixture(params=[1, 2, 3])\n",
    "def number(request):\n",
    "    return request.param\n",
    "\n",
    "def test_is_odd(number):\n",
    "    is_odd = number % 2 == 1\n",
    "    assert is_odd\n"
   ]
  },
  {
   "cell_type": "markdown",
   "id": "21983319",
   "metadata": {},
   "source": [
    " "
   ]
  },
  {
   "cell_type": "markdown",
   "id": "14176b89",
   "metadata": {},
   "source": [
    "## 11.5. Autouse fixtures"
   ]
  },
  {
   "cell_type": "markdown",
   "id": "0e692d69",
   "metadata": {},
   "source": [
    "In the following example, we define an autouse fixture called `setup_and_teardown`. Autouse fixtures are automatically used for all tests, without needing to be explicitly added as parameters. In this case, the fixture will print **\"Setting up\"** before each test and **\"Tearing down\"** after each test.\n",
    "\n",
    "These examples demonstrate the various ways you can use `pytest` fixtures to create reusable, modular setup and teardown code for your tests. This helps keep your tests clean, maintainable, and efficient."
   ]
  },
  {
   "cell_type": "code",
   "execution_count": null,
   "id": "1df7456b",
   "metadata": {},
   "outputs": [],
   "source": [
    "%%ipytest -s\n",
    "\n",
    "@pytest.fixture(autouse=True)\n",
    "def setup_and_teardown():\n",
    "    print(\"Setting up\")\n",
    "    yield\n",
    "    print(\"Tearing down\")\n",
    "\n",
    "def test_example():\n",
    "    print(\"Running test\")\n"
   ]
  },
  {
   "cell_type": "markdown",
   "id": "db2e6cf3",
   "metadata": {},
   "source": [
    "  "
   ]
  },
  {
   "cell_type": "markdown",
   "id": "ac9d1d9b",
   "metadata": {},
   "source": [
    "# 12. Avoiding Common Problems Using Specifications"
   ]
  },
  {
   "cell_type": "code",
   "execution_count": null,
   "id": "ce94f41d",
   "metadata": {},
   "outputs": [],
   "source": [
    "from unittest.mock import Mock\n",
    "\n",
    "examples = Mock(spec=['rand_numbers', 'get_holidays'])\n",
    "examples.rand_numbers()\n",
    "# examples.create_event()"
   ]
  },
  {
   "cell_type": "code",
   "execution_count": null,
   "id": "ac15aa7d",
   "metadata": {},
   "outputs": [],
   "source": [
    "from unittest.mock import Mock\n",
    "import examples\n",
    "\n",
    "mock_examples = Mock(spec=examples)\n",
    "mock_examples.rand_numbers()\n",
    "# examples.create_event()"
   ]
  },
  {
   "cell_type": "markdown",
   "id": "5c28d368",
   "metadata": {},
   "source": [
    "```python\n",
    "from unittest.mock import create_autospec\n",
    "```"
   ]
  },
  {
   "cell_type": "code",
   "execution_count": null,
   "id": "993deced",
   "metadata": {
    "scrolled": true
   },
   "outputs": [],
   "source": [
    "import examples\n",
    "from unittest.mock import create_autospec\n",
    "\n",
    "mock_examples = create_autospec(examples)\n",
    "mock_examples.rand_numbers(1)\n",
    "# mock_examples.rand_numbers() # error"
   ]
  },
  {
   "cell_type": "markdown",
   "id": "59d82967",
   "metadata": {},
   "source": [
    "   "
   ]
  },
  {
   "cell_type": "markdown",
   "id": "7c0e8152",
   "metadata": {},
   "source": [
    "# 13. MagicMock vs Mock"
   ]
  },
  {
   "cell_type": "markdown",
   "id": "5d7df06c",
   "metadata": {},
   "source": [
    "`MagicMock` and `Mock` are two classes provided by the `unittest.mock` module in Python. They both serve as mock objects for testing purposes, but `MagicMock` has some additional features that `Mock` does not have."
   ]
  },
  {
   "cell_type": "markdown",
   "id": "4056b285",
   "metadata": {},
   "source": [
    "`Mock`:\n",
    "\n",
    "- The `Mock` class allows you to create a flexible, configurable mock object that can imitate any Python object.\n",
    "- It can be used to replace any object or method during testing.\n",
    "- You can define `return_values`, `side_effects`, and specify how the mock object should behave when called.\n",
    "\n",
    "`MagicMock`:\n",
    "\n",
    "- `MagicMock` is a subclass of `Mock`, and it inherits all the functionality of the `Mock` class.\n",
    "- In addition to the features of `Mock`, `MagicMock` provides some convenience methods that make it easier to work with objects that use magic methods (dunder methods, e.g., `__getitem__`, `__setitem__`, `__iter__`, `__call__`, etc.).\n",
    "- With `MagicMock`, you can easily mock magic methods and specify their behavior during testing."
   ]
  },
  {
   "cell_type": "markdown",
   "id": "64674827",
   "metadata": {},
   "source": [
    "| Feature | Mock | MagicMock |\n",
    "|-----|-----|----|\n",
    "| Base Class | Base | Mock (inherits from Mock) |\n",
    "| Create Mock Objects | Yes | Yes |\n",
    "| Replace Objects/Methods | Yes | Yes |\n",
    "| Configure Return Values | Yes | Yes |\n",
    "| Configure Side Effects | Yes | Yes |\n",
    "| Support Magic Methods | No (using magic methods will result in errors) | Yes (supports mocking magic methods) |\n",
    "| Usage | General-purpose mocking | Mocking objects with magic methods |"
   ]
  },
  {
   "cell_type": "markdown",
   "id": "776be94c",
   "metadata": {},
   "source": [
    "Not clear? Here's a simple example:"
   ]
  },
  {
   "cell_type": "code",
   "execution_count": null,
   "id": "1917d77f",
   "metadata": {},
   "outputs": [],
   "source": [
    "from unittest.mock import Mock\n",
    "\n",
    "# Using Mock\n",
    "mock_obj = Mock()\n",
    "mock_obj.__getitem__.return_value = \"mocked value\"\n",
    "print(mock_obj[0])  # TypeError: 'Mock' object is not subscriptable"
   ]
  },
  {
   "cell_type": "code",
   "execution_count": null,
   "id": "5fa8c3a0",
   "metadata": {},
   "outputs": [],
   "source": [
    "from unittest.mock import Mock, MagicMock\n",
    "\n",
    "# Using MagicMock\n",
    "magic_mock_obj = MagicMock()\n",
    "magic_mock_obj.__getitem__.return_value = \"mocked value\"\n",
    "print(magic_mock_obj[0])  # Output: \"mocked value\""
   ]
  },
  {
   "cell_type": "markdown",
   "id": "a72dbda2",
   "metadata": {},
   "source": [
    " "
   ]
  },
  {
   "cell_type": "markdown",
   "id": "1ac42c5e",
   "metadata": {},
   "source": [
    "## 13.1. Mocking with `MagicMock`\n",
    "**Magic Methods, Dunder Methods, Special Methods**  \n",
    "list of magic methods: https://rszalski.github.io/magicmethods/"
   ]
  },
  {
   "cell_type": "code",
   "execution_count": null,
   "id": "48d2c199",
   "metadata": {},
   "outputs": [],
   "source": [
    "class ShoppingCart:\n",
    "    def __init__(self):\n",
    "        self.items = []\n",
    "\n",
    "    def add_item(self, item):\n",
    "        self.items.append(item)\n",
    "\n",
    "    def __getitem__(self, index):\n",
    "        return self.items[index]"
   ]
  },
  {
   "cell_type": "code",
   "execution_count": null,
   "id": "eb1ebcea",
   "metadata": {},
   "outputs": [],
   "source": [
    "shop = ShoppingCart()\n",
    "shop.add_item('bourbon')\n",
    "shop.add_item('vodka')\n",
    "shop[0]"
   ]
  },
  {
   "cell_type": "markdown",
   "id": "36b724b2",
   "metadata": {},
   "source": [
    "Now, let's write a test using `MagicMock` and show that using `Mock` would not work in this case:"
   ]
  },
  {
   "cell_type": "code",
   "execution_count": null,
   "id": "92c499fd",
   "metadata": {},
   "outputs": [],
   "source": [
    "%%ipytest \n",
    "from __main__ import ShoppingCart\n",
    "from unittest.mock import Mock, MagicMock\n",
    "\n",
    "def test_shoppingcart_using_magicmock(mocker):\n",
    "    mock_shop = mocker.MagicMock(spec=ShoppingCart)\n",
    "    mock_shop.__getitem__.return_value = 'vodka'\n",
    "    assert mock_shop[0] == 'vodka'"
   ]
  },
  {
   "cell_type": "code",
   "execution_count": null,
   "id": "e4653e44",
   "metadata": {
    "scrolled": true
   },
   "outputs": [],
   "source": [
    "%%ipytest -qq\n",
    "import pytest\n",
    "from __main__ import ShoppingCart\n",
    "from unittest.mock import Mock, MagicMock\n",
    "\n",
    "def test_shoppingcart_using_mock(mocker):\n",
    "    mock_shop = mocker.Mock(spec=ShoppingCart)\n",
    "    mock_shop.__getitem__.return_value = 'vodka'\n",
    "    assert mock_shop[0] == 'vodka'    \n",
    "\n",
    "#E               AttributeError: Mock object has no attribute '__getitem__'"
   ]
  },
  {
   "cell_type": "markdown",
   "id": "0c71b1be",
   "metadata": {},
   "source": [
    " "
   ]
  },
  {
   "cell_type": "markdown",
   "id": "54524b62",
   "metadata": {},
   "source": [
    "# 14. Best Practices for Mocking and Patching"
   ]
  },
  {
   "cell_type": "markdown",
   "id": "e312ddf9",
   "metadata": {},
   "source": [
    "## 14.1. When to use Mock objects and patching\n",
    "- When you want to isolate the part of the code you are testing from its dependencies.\n",
    "- When you want to replace external dependencies, like APIs or databases, with controlled, predictable responses.\n",
    "- When you want to test specific scenarios that are hard to reproduce with real objects, such as error conditions or edge cases."
   ]
  },
  {
   "cell_type": "markdown",
   "id": "941ba0a0",
   "metadata": {},
   "source": [
    "```python\n",
    "def test_function_using_api(mocker):\n",
    "    # Mock the external API function\n",
    "    mock_api_call = mocker.patch(\"module.api_call\")\n",
    "    mock_api_call.return_value = {\"status\": \"success\"}\n",
    "\n",
    "    result = function_using_api()\n",
    "    assert result == \"success\"\n",
    "```"
   ]
  },
  {
   "cell_type": "markdown",
   "id": "362f6a57",
   "metadata": {},
   "source": [
    "## 14.2. Keeping mocks simple and focused\n",
    "- Only mock the minimum functionality needed for your test.\n",
    "- Avoid over-specifying the behavior of your mocks; this can make your tests fragile and harder to maintain.\n",
    "- **Do not mock built-in** Python functions or methods unless absolutely necessary."
   ]
  },
  {
   "cell_type": "markdown",
   "id": "90dbdfcf",
   "metadata": {},
   "source": [
    "```python\n",
    "def test_adding_item_to_cart(mocker):\n",
    "    # Mock the ShoppingCart class but keep it focused on the needed behavior\n",
    "    mock_cart = mocker.MagicMock(spec=ShoppingCart)\n",
    "    mock_cart.add_item.return_value = None\n",
    "\n",
    "    item = \"bourbon\"\n",
    "    add_item_to_cart(mock_cart, item)\n",
    "\n",
    "    mock_cart.add_item.assert_called_once_with(item)\n",
    "```"
   ]
  },
  {
   "cell_type": "markdown",
   "id": "fd0c60f4",
   "metadata": {},
   "source": [
    "## 14.3. Testing edge cases and exceptions with `side_effect`\n",
    "- Use `side_effect` to simulate errors or exceptions that might be thrown by the mocked object.\n",
    "- Test how your code handles these exceptional situations."
   ]
  },
  {
   "cell_type": "markdown",
   "id": "66546cb0",
   "metadata": {},
   "source": [
    "```python\n",
    "def test_api_call_error_handling(mocker):\n",
    "    mock_api_call = mocker.patch(\"module.api_call\")\n",
    "    mock_api_call.side_effect = Exception(\"API call failed\")\n",
    "\n",
    "    with pytest.raises(Exception, match=\"API call failed\"):\n",
    "        function_using_api()\n",
    "```"
   ]
  },
  {
   "cell_type": "markdown",
   "id": "ac7e7f17",
   "metadata": {},
   "source": [
    "## 14.4. Cleaning up after patching\n",
    "- Use the `patch` and `mocker.patch` context managers to automatically clean up after patching.\n",
    "- Alternatively, use `start()` and `stop()` methods to manually control the patch lifecycle.\n",
    "- For class-level or module-level patches, consider using pytest fixtures with the `autouse` parameter."
   ]
  },
  {
   "cell_type": "markdown",
   "id": "9346088c",
   "metadata": {},
   "source": [
    "Example using `with` statement:\n",
    "```python\n",
    "def test_function_with_patching():\n",
    "    with patch(\"module.dependency\") as mock_dependency:\n",
    "        mock_dependency.return_value = \"mocked_value\"\n",
    "        result = function_using_dependency()\n",
    "        assert result == \"mocked_value\"\n",
    "```  \n",
    "\n",
    "Example using `start()` and `stop()`:\n",
    "```python\n",
    "def test_function_with_manual_patching():\n",
    "    mock_dependency = patch(\"module.dependency\").start()\n",
    "    mock_dependency.return_value = \"mocked_value\"\n",
    "\n",
    "    try:\n",
    "        result = function_using_dependency()\n",
    "        assert result == \"mocked_value\"\n",
    "    finally:\n",
    "        patch.stop()\n",
    "```  \n",
    "Example using `pytest` fixtures:\n",
    "```python\n",
    "@pytest.fixture(autouse=True)\n",
    "def mock_dependency(mocker):\n",
    "    mocker.patch(\"module.dependency\", return_value=\"mocked_value\")\n",
    "\n",
    "def test_function_with_autouse_fixture():\n",
    "    result = function_using_dependency()\n",
    "    assert result == \"mocked_value\"\n",
    "```"
   ]
  },
  {
   "attachments": {},
   "cell_type": "markdown",
   "id": "157c32cc",
   "metadata": {},
   "source": [
    "![image.png](images/stan_the_end.png)\n",
    "\n",
    "<!-- <img src=\"images/stan_the_end.png\" width=\"400\"/> -->\n",
    "\n",
    "# The END\n"
   ]
  },
  {
   "cell_type": "markdown",
   "id": "e3ae50cb",
   "metadata": {},
   "source": [
    "  "
   ]
  },
  {
   "cell_type": "markdown",
   "id": "85d16232",
   "metadata": {},
   "source": [
    "  "
   ]
  },
  {
   "cell_type": "markdown",
   "id": "c00fa64f",
   "metadata": {},
   "source": [
    "  "
   ]
  },
  {
   "cell_type": "markdown",
   "id": "fd70a729",
   "metadata": {},
   "source": [
    "  "
   ]
  },
  {
   "cell_type": "markdown",
   "id": "a7dad89c",
   "metadata": {},
   "source": [
    "  "
   ]
  },
  {
   "cell_type": "markdown",
   "id": "1f6d1741",
   "metadata": {},
   "source": [
    "  "
   ]
  }
 ],
 "metadata": {
  "kernelspec": {
   "display_name": "Python 3 (ipykernel)",
   "language": "python",
   "name": "python3"
  },
  "language_info": {
   "codemirror_mode": {
    "name": "ipython",
    "version": 3
   },
   "file_extension": ".py",
   "mimetype": "text/x-python",
   "name": "python",
   "nbconvert_exporter": "python",
   "pygments_lexer": "ipython3",
   "version": "3.11.2"
  }
 },
 "nbformat": 4,
 "nbformat_minor": 5
}
